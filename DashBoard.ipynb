{
 "cells": [
  {
   "cell_type": "code",
   "execution_count": 3,
   "id": "287557d8",
   "metadata": {},
   "outputs": [
    {
     "data": {
      "text/html": [
       "\n",
       "        <iframe\n",
       "            width=\"100%\"\n",
       "            height=\"650\"\n",
       "            src=\"http://127.0.0.1:8050/\"\n",
       "            frameborder=\"0\"\n",
       "            allowfullscreen\n",
       "            \n",
       "        ></iframe>\n",
       "        "
      ],
      "text/plain": [
       "<IPython.lib.display.IFrame at 0x25871d75d20>"
      ]
     },
     "metadata": {},
     "output_type": "display_data"
    }
   ],
   "source": [
    "import dash\n",
    "import dash_core_components as dcc\n",
    "import dash_html_components as html\n",
    "from dash.dependencies import Input, Output\n",
    "import pandas as pd\n",
    "import plotly.express as px\n",
    "\n",
    "# Load your data\n",
    "data = pd.read_csv('sort-minRange.csv')\n",
    "\n",
    "# Initialize the Dash app\n",
    "app = dash.Dash(__name__)\n",
    "\n",
    "# Define the layout of the dashboard\n",
    "app.layout = html.Div([\n",
    "    html.H1(\"Conjunction Analysis Dashboard\"),\n",
    "    \n",
    "    html.Div([\n",
    "        html.Label(\"Select a Satellite:\"),\n",
    "        dcc.Dropdown(\n",
    "            id='satellite-dropdown',\n",
    "            options=[{'label': sat, 'value': sat} for sat in data['OBJECT_NAME_1'].unique()],\n",
    "            value=data['OBJECT_NAME_1'].unique()[0]\n",
    "        ),\n",
    "    ], style={'width': '30%', 'display': 'inline-block'}),\n",
    "    \n",
    "    html.Div([\n",
    "        dcc.Graph(id='risk-pie-chart')\n",
    "    ], style={'width': '50%', 'display': 'inline-block'}),\n",
    "    \n",
    "    html.Div([\n",
    "        dcc.Graph(id='conjunction-scatter-plot')\n",
    "    ], style={'width': '50%', 'display': 'inline-block'}),\n",
    "])\n",
    "\n",
    "# Define callback to update graphs based on user selection\n",
    "@app.callback(\n",
    "    [Output('risk-pie-chart', 'figure'),\n",
    "     Output('conjunction-scatter-plot', 'figure')],\n",
    "    [Input('satellite-dropdown', 'value')]\n",
    ")\n",
    "def update_graphs(selected_satellite):\n",
    "    # Filter data based on selected satellite\n",
    "    selected_data = data[data['OBJECT_NAME_1'] == selected_satellite]\n",
    "    \n",
    "    # Risk Assessment Pie Chart\n",
    "    risk_counts = [len(selected_data[selected_data['MAX_PROB'] < 0.2]),  # Define risk level thresholds as needed\n",
    "                   len(selected_data[(selected_data['MAX_PROB'] >= 0.2) & (selected_data['MAX_PROB'] < 0.5)]),\n",
    "                   len(selected_data[selected_data['MAX_PROB'] >= 0.5])]\n",
    "    pie_chart_fig = px.pie(values=risk_counts, names=['Low Risk', 'Moderate Risk', 'High Risk'], title='Risk Assessment')\n",
    "    \n",
    "    # Conjunction Scatter Plot\n",
    "    scatter_plot_fig = px.scatter(selected_data, x='TCA', y='MAX_PROB', color='MAX_PROB',\n",
    "                                  labels={'TCA': 'Time of Closest Approach', 'MAX_PROB': 'Max Probability'},\n",
    "                                  title='Conjunction Details')\n",
    "    \n",
    "    return pie_chart_fig, scatter_plot_fig\n",
    "\n",
    "if __name__ == '__main__':\n",
    "    app.run_server(debug=True)\n"
   ]
  },
  {
   "cell_type": "markdown",
   "id": "94d5f18e",
   "metadata": {},
   "source": [
    "# "
   ]
  },
  {
   "cell_type": "markdown",
   "id": "2c55cbfa",
   "metadata": {},
   "source": [
    "# "
   ]
  },
  {
   "cell_type": "code",
   "execution_count": 2,
   "id": "20d60950",
   "metadata": {},
   "outputs": [
    {
     "data": {
      "text/html": [
       "\n",
       "        <iframe\n",
       "            width=\"100%\"\n",
       "            height=\"650\"\n",
       "            src=\"http://127.0.0.1:8050/\"\n",
       "            frameborder=\"0\"\n",
       "            allowfullscreen\n",
       "            \n",
       "        ></iframe>\n",
       "        "
      ],
      "text/plain": [
       "<IPython.lib.display.IFrame at 0x25871cddc90>"
      ]
     },
     "metadata": {},
     "output_type": "display_data"
    }
   ],
   "source": [
    "import dash\n",
    "import dash_core_components as dcc\n",
    "import dash_html_components as html\n",
    "from dash.dependencies import Input, Output\n",
    "import plotly.express as px\n",
    "import random\n",
    "\n",
    "# Generate random data for demonstration purposes\n",
    "random.seed(42)\n",
    "satellites = ['Satellite A', 'Satellite B', 'Satellite C']\n",
    "risk_levels = ['Low Risk', 'Moderate Risk', 'High Risk']\n",
    "data = []\n",
    "\n",
    "for satellite in satellites:\n",
    "    for _ in range(30):\n",
    "        data.append({\n",
    "            'Satellite': satellite,\n",
    "            'TCA': random.randint(1, 30),\n",
    "            'Max Probability': random.uniform(0.1, 0.9),\n",
    "            'Risk Level': random.choice(risk_levels)\n",
    "        })\n",
    "\n",
    "data = pd.DataFrame(data)\n",
    "\n",
    "# Initialize the Dash app\n",
    "app = dash.Dash(__name__)\n",
    "\n",
    "# Define the layout of the dashboard\n",
    "app.layout = html.Div([\n",
    "    html.H1(\"Conjunction Analysis Dashboard\"),\n",
    "    \n",
    "    html.Div([\n",
    "        html.Label(\"Select a Satellite:\"),\n",
    "        dcc.Dropdown(\n",
    "            id='satellite-dropdown',\n",
    "            options=[{'label': sat, 'value': sat} for sat in satellites],\n",
    "            value=satellites[0]\n",
    "        ),\n",
    "    ], style={'width': '30%', 'display': 'inline-block'}),\n",
    "    \n",
    "    html.Div([\n",
    "        dcc.Graph(id='risk-pie-chart')\n",
    "    ], style={'width': '50%', 'display': 'inline-block'}),\n",
    "    \n",
    "    html.Div([\n",
    "        dcc.Graph(id='conjunction-scatter-plot')\n",
    "    ], style={'width': '50%', 'display': 'inline-block'}),\n",
    "])\n",
    "\n",
    "# Define callback to update graphs based on user selection\n",
    "@app.callback(\n",
    "    [Output('risk-pie-chart', 'figure'),\n",
    "     Output('conjunction-scatter-plot', 'figure')],\n",
    "    [Input('satellite-dropdown', 'value')]\n",
    ")\n",
    "def update_graphs(selected_satellite):\n",
    "    # Filter data based on selected satellite\n",
    "    selected_data = data[data['Satellite'] == selected_satellite]\n",
    "    \n",
    "    # Risk Assessment Pie Chart\n",
    "    risk_counts = [len(selected_data[selected_data['Risk Level'] == level]) for level in risk_levels]\n",
    "    pie_chart_fig = px.pie(values=risk_counts, names=risk_levels, title='Risk Assessment')\n",
    "    \n",
    "    # Conjunction Scatter Plot\n",
    "    scatter_plot_fig = px.scatter(selected_data, x='TCA', y='Max Probability', color='Risk Level', \n",
    "                                  labels={'TCA': 'Time of Closest Approach', 'Max Probability': 'Max Probability'},\n",
    "                                  title='Conjunction Details')\n",
    "    \n",
    "    return pie_chart_fig, scatter_plot_fig\n",
    "\n",
    "if __name__ == '__main__':\n",
    "    app.run_server(debug=True)\n"
   ]
  },
  {
   "cell_type": "code",
   "execution_count": null,
   "id": "0623b143",
   "metadata": {},
   "outputs": [],
   "source": []
  }
 ],
 "metadata": {
  "kernelspec": {
   "display_name": "Python 3 (ipykernel)",
   "language": "python",
   "name": "python3"
  },
  "language_info": {
   "codemirror_mode": {
    "name": "ipython",
    "version": 3
   },
   "file_extension": ".py",
   "mimetype": "text/x-python",
   "name": "python",
   "nbconvert_exporter": "python",
   "pygments_lexer": "ipython3",
   "version": "3.10.9"
  }
 },
 "nbformat": 4,
 "nbformat_minor": 5
}
